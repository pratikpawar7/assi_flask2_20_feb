{
 "cells": [
  {
   "cell_type": "code",
   "execution_count": null,
   "id": "5a00d609-fbd3-45ec-a002-81607242c1d0",
   "metadata": {},
   "outputs": [],
   "source": [
    "'''\n",
    "Q1. Explain GET and POST methods.\n",
    "'''\n",
    "The HTTP (Hypertext Transfer Protocol) is the foundation of communication between web servers and clients such as browsers. \n",
    "The two most commonly used methods in HTTP are the GET and POST methods, \n",
    "which are used to send and receive information between the server and the client.\n",
    "\n",
    "GET method:\n",
    "The GET method is used to request a specific resource or data from a server.\n",
    "When a client (browser) sends a GET request, it sends the request to the server with specific parameters or query strings in the URL.\n",
    "\n",
    "POST method:\n",
    "The POST method is used to submit data to a server, which can be used to create, update, or delete data.\n",
    "When a client (browser) sends a POST request, it sends the data in the request body, which is not visible in the URL"
   ]
  },
  {
   "cell_type": "code",
   "execution_count": null,
   "id": "8efc14de-4ab2-4e50-8f47-20b740717d93",
   "metadata": {},
   "outputs": [],
   "source": [
    "'''\n",
    "Q2. Why is request used in Flask?\n",
    "'''\n",
    "In Flask, the request object is used to access incoming client requests data, such as form data, query parameters, and cookies.\n",
    "It is a global object that is created by Flask and c\n",
    "ontains all the necessary data about the request that is currently being processed by the application.\n",
    "\n",
    "The request object is useful in Flask for a few reasons:\n",
    "\n",
    "Retrieving user data: Flask applications typically require user input in the form of HTTP requests.\n",
    "The request object allows the application to retrieve data submitted by users in\n",
    "the request body, URL query parameters, cookies, and other data."
   ]
  },
  {
   "cell_type": "code",
   "execution_count": null,
   "id": "83d32332-d602-4321-b626-f94002ebf260",
   "metadata": {},
   "outputs": [],
   "source": [
    "'''\n",
    "Q3. Why is redirect() used in Flask?\n",
    "'''\n",
    "The redirect() function is a built-in function in the Flask framework that is used to redirect \n",
    "a user to a different URL or endpoint within the application.\n",
    "\n",
    "\n",
    "Routing: The redirect() function is used to redirect a user to a different endpoint or URL within the Flask application.\n",
    "        This is useful for routing users to the appropriate page or endpoint based on their request.\n",
    "\n",
    "User Experience: The redirect() function is often used to improve the user experience of the Flask application\n",
    "    by redirecting users to a more appropriate page or endpoint\n",
    "    \n",
    "Security: The redirect() function is also used to improve the security of the Flask application \n",
    "    by redirecting users away from potentially dangerous URLs or endpoints"
   ]
  },
  {
   "cell_type": "code",
   "execution_count": null,
   "id": "d38b9131-6559-4b4c-9936-2eaa1ae29f23",
   "metadata": {},
   "outputs": [],
   "source": [
    "'''\n",
    "Q4. What are templates in Flask? Why is the render_template() function used?\n",
    "'''\n",
    "In Flask, templates are used to create dynamic HTML pages that can display data from the application.\n",
    "Templates are written in a markup language called Jinja2, which is built into Flask. \n",
    "They provide a way to separate the presentation logic from the application logic, allowing for greater flexibility and maintainability.\n",
    "\n",
    "render_template():\n",
    "    The render_template() function is a built-in function in Flask that is used to render templates.\n",
    "    It takes the name of the template file and any variables that need to be passed to the template as arguments.\n",
    "    The function then returns the rendered HTML page."
   ]
  },
  {
   "cell_type": "code",
   "execution_count": 2,
   "id": "eb90b607-d42f-49ad-b27a-28760bc45870",
   "metadata": {},
   "outputs": [
    {
     "name": "stdout",
     "output_type": "stream",
     "text": [
      "Requirement already satisfied: Flask in /opt/conda/lib/python3.10/site-packages (2.2.3)\n",
      "Requirement already satisfied: click>=8.0 in /opt/conda/lib/python3.10/site-packages (from Flask) (8.1.3)\n",
      "Requirement already satisfied: itsdangerous>=2.0 in /opt/conda/lib/python3.10/site-packages (from Flask) (2.1.2)\n",
      "Requirement already satisfied: Jinja2>=3.0 in /opt/conda/lib/python3.10/site-packages (from Flask) (3.1.2)\n",
      "Requirement already satisfied: Werkzeug>=2.2.2 in /opt/conda/lib/python3.10/site-packages (from Flask) (2.2.3)\n",
      "Requirement already satisfied: MarkupSafe>=2.0 in /opt/conda/lib/python3.10/site-packages (from Jinja2>=3.0->Flask) (2.1.1)\n",
      "Note: you may need to restart the kernel to use updated packages.\n"
     ]
    }
   ],
   "source": [
    "pip install Flask\n"
   ]
  },
  {
   "cell_type": "code",
   "execution_count": 1,
   "id": "06eb3c95-32df-4c12-b44d-c854a86b75d7",
   "metadata": {},
   "outputs": [
    {
     "name": "stdout",
     "output_type": "stream",
     "text": [
      " * Serving Flask app '__main__'\n",
      " * Debug mode: off\n"
     ]
    },
    {
     "name": "stderr",
     "output_type": "stream",
     "text": [
      "WARNING: This is a development server. Do not use it in a production deployment. Use a production WSGI server instead.\n",
      " * Running on all addresses (0.0.0.0)\n",
      " * Running on http://127.0.0.1:8081\n",
      " * Running on http://172.18.0.11:8081\n",
      "Press CTRL+C to quit\n",
      "172.18.0.2 - - [05/Mar/2023 06:34:10] \"GET /new HTTP/1.1\" 200 -\n"
     ]
    }
   ],
   "source": [
    "'''\n",
    "Q5. Create a simple API. Use Postman to test it. Attach the screenshot of the output in the Jupyter Notebook.\n",
    "'''\n",
    "\n",
    "from flask import Flask \n",
    "\n",
    "app = Flask(__name__)\n",
    "\n",
    "@app.route('/new')\n",
    "def func():\n",
    "    return \"This is the first function which is run in the postman  API \"\n",
    "if __name__ ==\"__main__\":\n",
    "    app.run(host='0.0.0.0',port=\"8081\")"
   ]
  },
  {
   "cell_type": "code",
   "execution_count": 1,
   "id": "fd407dc8-2e2a-4f92-a586-30a53cd7a3f2",
   "metadata": {},
   "outputs": [
    {
     "ename": "NameError",
     "evalue": "name 'postman' is not defined",
     "output_type": "error",
     "traceback": [
      "\u001b[0;31m---------------------------------------------------------------------------\u001b[0m",
      "\u001b[0;31mNameError\u001b[0m                                 Traceback (most recent call last)",
      "Cell \u001b[0;32mIn[1], line 2\u001b[0m\n\u001b[1;32m      1\u001b[0m \u001b[38;5;28;01mfrom\u001b[39;00m \u001b[38;5;21;01mPIL\u001b[39;00m \u001b[38;5;28;01mimport\u001b[39;00m Image\n\u001b[0;32m----> 2\u001b[0m img \u001b[38;5;241m=\u001b[39m Image\u001b[38;5;241m.\u001b[39mopen(\u001b[43mpostman\u001b[49m\u001b[38;5;241m.\u001b[39mpng)\n\u001b[1;32m      3\u001b[0m img\n",
      "\u001b[0;31mNameError\u001b[0m: name 'postman' is not defined"
     ]
    }
   ],
   "source": [
    "from PIL import Image\n",
    "img = Image.open(postman.png)\n",
    "img\n"
   ]
  },
  {
   "cell_type": "code",
   "execution_count": null,
   "id": "2914083f-48d2-450d-9b44-ef7eab230874",
   "metadata": {},
   "outputs": [],
   "source": []
  }
 ],
 "metadata": {
  "kernelspec": {
   "display_name": "Python 3 (ipykernel)",
   "language": "python",
   "name": "python3"
  },
  "language_info": {
   "codemirror_mode": {
    "name": "ipython",
    "version": 3
   },
   "file_extension": ".py",
   "mimetype": "text/x-python",
   "name": "python",
   "nbconvert_exporter": "python",
   "pygments_lexer": "ipython3",
   "version": "3.10.8"
  }
 },
 "nbformat": 4,
 "nbformat_minor": 5
}
